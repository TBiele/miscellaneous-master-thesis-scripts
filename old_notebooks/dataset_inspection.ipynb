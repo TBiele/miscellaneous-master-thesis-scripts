{
 "cells": [
  {
   "cell_type": "code",
   "execution_count": null,
   "metadata": {},
   "outputs": [],
   "source": [
    "import pandas as pd"
   ]
  },
  {
   "cell_type": "code",
   "execution_count": null,
   "metadata": {},
   "outputs": [],
   "source": [
    "df_messages = pd.read_csv(\"messages.csv\")\n",
    "df_messages = df_messages.sample(frac=1).reset_index(drop=True)  # shuffle rows\n",
    "print(\"The dataset contains\", len(df_messages), \"labeled messages\")\n",
    "df_messages.head()"
   ]
  },
  {
   "cell_type": "code",
   "execution_count": null,
   "metadata": {},
   "outputs": [],
   "source": [
    "print(\"All messages unique: \", df_messages.content.nunique() == df_messages.shape[0])\n",
    "print(\"DataFrame contains null values: \", df_messages.isnull().values.any())\n",
    "# df_messages[df_messages.isna().any(axis=1)]"
   ]
  },
  {
   "cell_type": "code",
   "execution_count": null,
   "metadata": {},
   "outputs": [],
   "source": [
    "print(\"average sentence length: \", df_messages.content.str.split().str.len().mean())\n",
    "print(\"stdev sentence length: \", df_messages.content.str.split().str.len().std())"
   ]
  }
 ],
 "metadata": {
  "language_info": {
   "name": "python"
  }
 },
 "nbformat": 4,
 "nbformat_minor": 2
}
